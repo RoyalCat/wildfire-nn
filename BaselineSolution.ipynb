{
 "cells": [
  {
   "cell_type": "markdown",
   "metadata": {
    "pycharm": {}
   },
   "source": [
    "# Пример решения"
   ]
  },
  {
   "cell_type": "code",
   "execution_count": 3,
   "metadata": {
    "pycharm": {}
   },
   "outputs": [],
   "source": [
    "import pandas\n",
    "import xarray\n",
    "import requests\n",
    "import datetime\n",
    "import numpy as np\n",
    "from tqdm import tqdm_notebook as tqdm"
   ]
  },
  {
   "cell_type": "markdown",
   "metadata": {
    "pycharm": {}
   },
   "source": [
    "## NCEP Dataset\n",
    "\n",
    "Погодные данные из проекта [NCEP Reanalysis 2](https://www.esrl.noaa.gov/psd/data/gridded/data.ncep.reanalysis2.html) — усреднённые за день температура воздуха, относительная влажность и компоненты ветра. Данные можно получить с 1979 года.\n",
    "\n",
    "Загрузите наборы данных в каталог `data/ncep/`:\n",
    "- https://www.esrl.noaa.gov/psd/thredds/fileServer/Datasets/ncep/air.2018.nc\n",
    "- https://www.esrl.noaa.gov/psd/thredds/fileServer/Datasets/ncep/uwnd.2018.nc\n",
    "- https://www.esrl.noaa.gov/psd/thredds/fileServer/Datasets/ncep/rhum.2018.nc"
   ]
  },
  {
   "cell_type": "code",
   "execution_count": 5,
   "metadata": {
    "pycharm": {}
   },
   "outputs": [
    {
     "name": "stderr",
     "output_type": "stream",
     "text": [
      "C:\\Users\\RoyalCat\\Anaconda3\\lib\\site-packages\\xarray\\conventions.py:494: SerializationWarning: variable 'air' has multiple fill values {-99, 32767}, decoding all values to NaN.\n",
      "  use_cftime=use_cftime,\n",
      "C:\\Users\\RoyalCat\\Anaconda3\\lib\\site-packages\\xarray\\conventions.py:494: SerializationWarning: variable 'uwnd' has multiple fill values {-99, 32767}, decoding all values to NaN.\n",
      "  use_cftime=use_cftime,\n",
      "C:\\Users\\RoyalCat\\Anaconda3\\lib\\site-packages\\xarray\\conventions.py:494: SerializationWarning: variable 'rhum' has multiple fill values {-99, 32767}, decoding all values to NaN.\n",
      "  use_cftime=use_cftime,\n"
     ]
    }
   ],
   "source": [
    "ncep_data = []\n",
    "year = 2018\n",
    "for var in ('air', 'uwnd', 'rhum'):\n",
    "    dataset_filename = 'data/ncep/{}.{}.nc'.format(var, year)\n",
    "    ncep_data.append(xarray.open_dataset(dataset_filename))\n",
    "ncep_data = xarray.merge(ncep_data)"
   ]
  },
  {
   "cell_type": "markdown",
   "metadata": {
    "pycharm": {}
   },
   "source": [
    "## Набор признаков на основе данных NCEP\n",
    "\n",
    "Ищем наиболее близкий к точке узел сетки в наборе NCEP, в качестве признаков значения переменных зарегистрированные в день регистрации точки и агрегированные показатели за период от 1 до 3х недель до момента регистрации точки."
   ]
  },
  {
   "cell_type": "code",
   "execution_count": 3,
   "metadata": {
    "pycharm": {}
   },
   "outputs": [],
   "source": [
    "def extract_features(row):\n",
    "    point = ncep_data.sel(\n",
    "        lon=row['longitude'],\n",
    "        lat=row['latitude'],\n",
    "        level=1000,\n",
    "        method='nearest',\n",
    "    )\n",
    "\n",
    "    p1w = point.rolling(time=7).mean()\n",
    "    p2w = point.rolling(time=14).mean()\n",
    "    p3w = point.rolling(time=21).mean()\n",
    "    \n",
    "    date = row['date']\n",
    "    v = point.sel(time=date)\n",
    "    v1w = p1w.sel(time=date)\n",
    "    v2w = p2w.sel(time=date)\n",
    "    v3w = p3w.sel(time=date)\n",
    "    \n",
    "    return {\n",
    "        'fire_id': row['fire_id'],\n",
    "        'fire_type': row['fire_type'],\n",
    "        'fire_type_name': row['fire_type_name'],\n",
    "        'date': row['date'], \n",
    "        'temperature': v.air.values.item(0),\n",
    "        'humidity': v.rhum.values.item(0),\n",
    "        'uwind': v.uwnd.values.item(0),\n",
    "        't1w': v1w.air.values.item(0),\n",
    "        't2w': v2w.air.values.item(0),\n",
    "        't3w': v3w.air.values.item(0),\n",
    "        'h1w': v1w.rhum.values.item(0),\n",
    "        'h2w': v2w.rhum.values.item(0),\n",
    "        'h3w': v3w.rhum.values.item(0)\n",
    "    }"
   ]
  },
  {
   "cell_type": "markdown",
   "metadata": {
    "pycharm": {}
   },
   "source": [
    "## Выборка для обучения"
   ]
  },
  {
   "cell_type": "code",
   "execution_count": 4,
   "metadata": {
    "pycharm": {}
   },
   "outputs": [
    {
     "data": {
      "application/vnd.jupyter.widget-view+json": {
       "model_id": "82664e08d2234493899289672633f71a",
       "version_major": 2,
       "version_minor": 0
      },
      "text/plain": [
       "HBox(children=(IntProgress(value=0, max=2000), HTML(value='')))"
      ]
     },
     "metadata": {},
     "output_type": "display_data"
    },
    {
     "name": "stdout",
     "output_type": "stream",
     "text": [
      "\n"
     ]
    }
   ],
   "source": [
    "df_train = pandas.read_csv('data/wildfires_train.csv')\n",
    "df_subsample = df_train.query('(date > \"2018\") & (date < \"2019\")').sample(n=2000)\n",
    "\n",
    "df_features = []\n",
    "for i, row in tqdm(df_subsample.iterrows(), total=df_subsample.shape[0]):\n",
    "    features = extract_features(row)\n",
    "    df_features.append(features)\n",
    "df_features = pandas.DataFrame(df_features)\n",
    "df_features.set_index('fire_id', inplace=True)"
   ]
  },
  {
   "cell_type": "markdown",
   "metadata": {
    "pycharm": {}
   },
   "source": [
    "## Обучение классификатора"
   ]
  },
  {
   "cell_type": "code",
   "execution_count": 5,
   "metadata": {
    "pycharm": {}
   },
   "outputs": [],
   "source": [
    "from sklearn.ensemble import GradientBoostingClassifier\n",
    "from sklearn.model_selection import cross_val_score"
   ]
  },
  {
   "cell_type": "code",
   "execution_count": 6,
   "metadata": {
    "pycharm": {}
   },
   "outputs": [],
   "source": [
    "X = df_features.iloc[:, 3:].fillna(0)\n",
    "y = df_features['fire_type']"
   ]
  },
  {
   "cell_type": "code",
   "execution_count": 7,
   "metadata": {
    "pycharm": {}
   },
   "outputs": [],
   "source": [
    "fire_classifier = GradientBoostingClassifier()"
   ]
  },
  {
   "cell_type": "code",
   "execution_count": 8,
   "metadata": {
    "pycharm": {},
    "scrolled": false
   },
   "outputs": [
    {
     "data": {
      "text/plain": [
       "array([0.4009901 , 0.47014925, 0.42892768, 0.48492462, 0.4835443 ])"
      ]
     },
     "execution_count": 8,
     "metadata": {},
     "output_type": "execute_result"
    }
   ],
   "source": [
    "cross_val_score(\n",
    "    fire_classifier, \n",
    "    X, y, \n",
    "    cv=5, \n",
    ")"
   ]
  },
  {
   "cell_type": "code",
   "execution_count": 9,
   "metadata": {
    "pycharm": {}
   },
   "outputs": [
    {
     "data": {
      "text/plain": [
       "GradientBoostingClassifier(criterion='friedman_mse', init=None,\n",
       "                           learning_rate=0.1, loss='deviance', max_depth=3,\n",
       "                           max_features=None, max_leaf_nodes=None,\n",
       "                           min_impurity_decrease=0.0, min_impurity_split=None,\n",
       "                           min_samples_leaf=1, min_samples_split=2,\n",
       "                           min_weight_fraction_leaf=0.0, n_estimators=100,\n",
       "                           n_iter_no_change=None, presort='auto',\n",
       "                           random_state=None, subsample=1.0, tol=0.0001,\n",
       "                           validation_fraction=0.1, verbose=0,\n",
       "                           warm_start=False)"
      ]
     },
     "execution_count": 9,
     "metadata": {},
     "output_type": "execute_result"
    }
   ],
   "source": [
    "fire_classifier.fit(X, y)"
   ]
  },
  {
   "cell_type": "markdown",
   "metadata": {
    "pycharm": {}
   },
   "source": [
    "## Решение для отправки в систему"
   ]
  },
  {
   "cell_type": "code",
   "execution_count": 10,
   "metadata": {
    "pycharm": {}
   },
   "outputs": [],
   "source": [
    "import pickle\n",
    "\n",
    "with open('solution/model.pickle', 'wb') as fout:\n",
    "    pickle.dump(fire_classifier, fout, protocol=pickle.HIGHEST_PROTOCOL)"
   ]
  },
  {
   "cell_type": "markdown",
   "metadata": {
    "pycharm": {}
   },
   "source": [
    "## Прогнозирование на новых данных"
   ]
  },
  {
   "cell_type": "code",
   "execution_count": 11,
   "metadata": {
    "pycharm": {}
   },
   "outputs": [
    {
     "data": {
      "text/html": [
       "<div>\n",
       "<style scoped>\n",
       "    .dataframe tbody tr th:only-of-type {\n",
       "        vertical-align: middle;\n",
       "    }\n",
       "\n",
       "    .dataframe tbody tr th {\n",
       "        vertical-align: top;\n",
       "    }\n",
       "\n",
       "    .dataframe thead th {\n",
       "        text-align: right;\n",
       "    }\n",
       "</style>\n",
       "<table border=\"1\" class=\"dataframe\">\n",
       "  <thead>\n",
       "    <tr style=\"text-align: right;\">\n",
       "      <th></th>\n",
       "      <th>fire_1_prob</th>\n",
       "      <th>fire_2_prob</th>\n",
       "      <th>fire_3_prob</th>\n",
       "      <th>fire_4_prob</th>\n",
       "      <th>fire_5_prob</th>\n",
       "      <th>fire_6_prob</th>\n",
       "      <th>fire_8_prob</th>\n",
       "      <th>fire_9_prob</th>\n",
       "      <th>fire_10_prob</th>\n",
       "      <th>fire_11_prob</th>\n",
       "    </tr>\n",
       "    <tr>\n",
       "      <th>fire_id</th>\n",
       "      <th></th>\n",
       "      <th></th>\n",
       "      <th></th>\n",
       "      <th></th>\n",
       "      <th></th>\n",
       "      <th></th>\n",
       "      <th></th>\n",
       "      <th></th>\n",
       "      <th></th>\n",
       "      <th></th>\n",
       "    </tr>\n",
       "  </thead>\n",
       "  <tbody>\n",
       "    <tr>\n",
       "      <th>143429</th>\n",
       "      <td>0.001159</td>\n",
       "      <td>0.000017</td>\n",
       "      <td>0.007399</td>\n",
       "      <td>0.004252</td>\n",
       "      <td>0.003552</td>\n",
       "      <td>0.286441</td>\n",
       "      <td>0.078428</td>\n",
       "      <td>0.435200</td>\n",
       "      <td>0.137525</td>\n",
       "      <td>0.046028</td>\n",
       "    </tr>\n",
       "    <tr>\n",
       "      <th>138178</th>\n",
       "      <td>0.000705</td>\n",
       "      <td>0.000052</td>\n",
       "      <td>0.058708</td>\n",
       "      <td>0.006433</td>\n",
       "      <td>0.001608</td>\n",
       "      <td>0.161008</td>\n",
       "      <td>0.017639</td>\n",
       "      <td>0.139629</td>\n",
       "      <td>0.589347</td>\n",
       "      <td>0.024871</td>\n",
       "    </tr>\n",
       "    <tr>\n",
       "      <th>155954</th>\n",
       "      <td>0.000730</td>\n",
       "      <td>0.000005</td>\n",
       "      <td>0.021415</td>\n",
       "      <td>0.003711</td>\n",
       "      <td>0.002800</td>\n",
       "      <td>0.340530</td>\n",
       "      <td>0.027788</td>\n",
       "      <td>0.415358</td>\n",
       "      <td>0.043275</td>\n",
       "      <td>0.144389</td>\n",
       "    </tr>\n",
       "    <tr>\n",
       "      <th>157753</th>\n",
       "      <td>0.000566</td>\n",
       "      <td>0.000016</td>\n",
       "      <td>0.008710</td>\n",
       "      <td>0.410101</td>\n",
       "      <td>0.001003</td>\n",
       "      <td>0.068589</td>\n",
       "      <td>0.013258</td>\n",
       "      <td>0.371023</td>\n",
       "      <td>0.094216</td>\n",
       "      <td>0.032518</td>\n",
       "    </tr>\n",
       "    <tr>\n",
       "      <th>144402</th>\n",
       "      <td>0.000595</td>\n",
       "      <td>0.000006</td>\n",
       "      <td>0.004892</td>\n",
       "      <td>0.002338</td>\n",
       "      <td>0.002578</td>\n",
       "      <td>0.269705</td>\n",
       "      <td>0.040485</td>\n",
       "      <td>0.493960</td>\n",
       "      <td>0.045141</td>\n",
       "      <td>0.140300</td>\n",
       "    </tr>\n",
       "  </tbody>\n",
       "</table>\n",
       "</div>"
      ],
      "text/plain": [
       "         fire_1_prob  fire_2_prob  fire_3_prob  fire_4_prob  fire_5_prob  \\\n",
       "fire_id                                                                    \n",
       "143429      0.001159     0.000017     0.007399     0.004252     0.003552   \n",
       "138178      0.000705     0.000052     0.058708     0.006433     0.001608   \n",
       "155954      0.000730     0.000005     0.021415     0.003711     0.002800   \n",
       "157753      0.000566     0.000016     0.008710     0.410101     0.001003   \n",
       "144402      0.000595     0.000006     0.004892     0.002338     0.002578   \n",
       "\n",
       "         fire_6_prob  fire_8_prob  fire_9_prob  fire_10_prob  fire_11_prob  \n",
       "fire_id                                                                     \n",
       "143429      0.286441     0.078428     0.435200      0.137525      0.046028  \n",
       "138178      0.161008     0.017639     0.139629      0.589347      0.024871  \n",
       "155954      0.340530     0.027788     0.415358      0.043275      0.144389  \n",
       "157753      0.068589     0.013258     0.371023      0.094216      0.032518  \n",
       "144402      0.269705     0.040485     0.493960      0.045141      0.140300  "
      ]
     },
     "execution_count": 11,
     "metadata": {},
     "output_type": "execute_result"
    }
   ],
   "source": [
    "df_predictions = pandas.DataFrame(\n",
    "    fire_classifier.predict_proba(X),\n",
    "    index=df_features.index,\n",
    "    columns=[\n",
    "        'fire_{}_prob'.format(class_id)\n",
    "        for class_id in fire_classifier.classes_\n",
    "    ],\n",
    ")\n",
    "df_predictions.head()"
   ]
  },
  {
   "cell_type": "code",
   "execution_count": 12,
   "metadata": {
    "pycharm": {}
   },
   "outputs": [],
   "source": [
    "df_predictions.to_csv('data/sample_predictions.csv', index_label='fire_id')"
   ]
  }
 ],
 "metadata": {
  "kernelspec": {
   "display_name": "Python 3",
   "language": "python",
   "name": "python3"
  }
 },
 "nbformat": 4,
 "nbformat_minor": 2
}
